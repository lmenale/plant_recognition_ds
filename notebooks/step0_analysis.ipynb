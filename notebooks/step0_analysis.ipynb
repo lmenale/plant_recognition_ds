{
 "cells": [
  {
   "cell_type": "code",
   "execution_count": null,
   "metadata": {},
   "outputs": [],
   "source": [
    "import os\n",
    "from typing import Tuple\n",
    "\n",
    "import pandas as pd\n",
    "from PIL import Image"
   ]
  },
  {
   "cell_type": "code",
   "execution_count": null,
   "metadata": {},
   "outputs": [],
   "source": [
    "# Helper functions\n",
    "def image_data(filepath: str) -> Tuple[int, int, str, str]:\n",
    "    \"\"\"This function returns all the information related to the file passed in input.\n",
    "\n",
    "    Args:\n",
    "        filepath (str): The image file path.\n",
    "\n",
    "    Returns:\n",
    "        Tuple[int, int, str, str]: width as number in pixel, height as number in pixel, format as string (JPEG, PNG, GIF, etc.), mode as string (RGB, RGBA, etc.).\n",
    "    \"\"\"\n",
    "    # open image\n",
    "    image = Image.open(filepath)\n",
    "    # Process the image here\n",
    "    width, height = image.size  # size of image\n",
    "    format = image.format  # JPEG, PNG, GIF\n",
    "    mode = image.mode  # RGB, RGBA or others\n",
    "    image.close()\n",
    "\n",
    "    return width, height, format, mode"
   ]
  },
  {
   "cell_type": "code",
   "execution_count": null,
   "metadata": {},
   "outputs": [],
   "source": [
    "# Helper functions\n",
    "def populate_dataset(dataset: dict, directory: str):\n",
    "    \"\"\"This function populate the passed dataset.\n",
    "\n",
    "    Args:\n",
    "        dataset (dict): The dataset that will be populated.\n",
    "        directory (str): The directory where all the data is available.\n",
    "    \"\"\"\n",
    "    # Loop through all the files and folders in the directory\n",
    "    for folder_name in os.listdir(directory):\n",
    "        plant, healthy = folder_name.split(\"___\")\n",
    "\n",
    "        if os.path.isdir(os.path.join(directory, folder_name)):\n",
    "            for file_name in os.listdir(os.path.join(directory, folder_name)):\n",
    "                file_path = os.path.join(directory, folder_name, file_name)\n",
    "                width, height, format, mode = image_data(file_path)\n",
    "\n",
    "                dataset[\"Plant\"].append(plant)\n",
    "                if healthy == \"healthy\":\n",
    "                    dataset[\"Healthy\"].append(1)\n",
    "                else:\n",
    "                    dataset[\"Healthy\"].append(0)\n",
    "                dataset[\"Illness\"].append(healthy.replace(plant + \"_\", \"\"))\n",
    "                dataset[\"Image_name\"].append(file_name)\n",
    "                dataset[\"Image_width\"].append(width)\n",
    "                dataset[\"Image_height\"].append(height)\n",
    "                dataset[\"Image_format\"].append(format)\n",
    "                dataset[\"Image_mode\"].append(mode)"
   ]
  },
  {
   "cell_type": "code",
   "execution_count": null,
   "metadata": {},
   "outputs": [],
   "source": [
    "# Assuming 'train' is the main directory containing all the categories\n",
    "dataset_dir = \"data/raw\"\n",
    "\n",
    "# Create a DataFrame with the following columns in the dataset\n",
    "# Columns name: Plant, Healthy, Illness, Image_name, Image_width, Image_height, Image_format, Image_mode\n",
    "data = {\n",
    "    \"Plant\": [],\n",
    "    \"Healthy\": [],\n",
    "    \"Illness\": [],\n",
    "    \"Image_name\": [],\n",
    "    \"Image_width\": [],\n",
    "    \"Image_height\": [],\n",
    "    \"Image_format\": [],\n",
    "    \"Image_mode\": [],\n",
    "}\n",
    "\n",
    "populate_dataset(data, dataset_dir)\n",
    "\n",
    "# Create a sample DataFrame\n",
    "df = pd.DataFrame(data)\n",
    "\n",
    "# Export to CSV\n",
    "df.to_csv(\"export_train_dataframe.csv\")"
   ]
  }
 ],
 "metadata": {
  "kernelspec": {
   "display_name": ".venv",
   "language": "python",
   "name": "python3"
  },
  "language_info": {
   "codemirror_mode": {
    "name": "ipython",
    "version": 3
   },
   "file_extension": ".py",
   "mimetype": "text/x-python",
   "name": "python",
   "nbconvert_exporter": "python",
   "pygments_lexer": "ipython3",
   "version": "3.12.4"
  }
 },
 "nbformat": 4,
 "nbformat_minor": 2
}
