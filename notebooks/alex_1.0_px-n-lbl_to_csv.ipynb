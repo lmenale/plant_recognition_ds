{
 "cells": [
  {
   "cell_type": "code",
   "execution_count": null,
   "metadata": {},
   "outputs": [],
   "source": [
    "#!/usr/bin/env python\n",
    "# -*- coding: utf-8 -*-"
   ]
  },
  {
   "cell_type": "markdown",
   "metadata": {},
   "source": [
    "## authorship information\n",
    "__author__ = \"Alex Tavkhelidze\"<br>\n",
    "__credits__ = [\"Bernd Brinkmann\", \"Luigi Menale\", \"Arif Haidari\", \"Romain Lesieur\"]<br>\n",
    "__email__ = <a href=\"mailto:&#106;&#101;&#111;&#115;&#064;&#109;&#097;&#105;&#108;&#046;&#099;&#111;&#109;\">jeos [at] mail [dot] com</a><br>\n",
    "__status__ = \"Development\"<br>\n",
    "__project__ = \"Plant Recognition\"<br>\n",
    "__scope__ = \"DataScientest's Bootcamp in Data Science\"\n",
    "\n",
    "#### materials used besides own contribution:\n",
    "the prototype code file 'step0_analysis.ipynb', provided by the teammate Luigi Menale"
   ]
  },
  {
   "cell_type": "code",
   "execution_count": null,
   "metadata": {},
   "outputs": [],
   "source": [
    "\"\"\"Creates a dataset with the row-wise stored pixel intensities per each image:\n",
    "   populates a dictionary with pixel-wise image data\n",
    "   exports the populated dictionary as a .csv file\n",
    "\n",
    "   performs elementary integrity check for data analysis:\n",
    "      loads the .csv file as a Pandas DataFrame object\n",
    "      displays its shape\n",
    "\"\"\""
   ]
  },
  {
   "cell_type": "code",
   "execution_count": null,
   "metadata": {},
   "outputs": [],
   "source": [
    "from sys import argv, stderr, exit\n",
    "import os\n",
    "from typing import Tuple\n",
    "from collections import defaultdict\n",
    "\n",
    "import pandas as pd\n",
    "import imageio.v3 as iio"
   ]
  },
  {
   "cell_type": "code",
   "execution_count": null,
   "metadata": {},
   "outputs": [],
   "source": [
    "# TODO: replace the arguments with your full path directory names - TODO: for Unix systems, erase the first argument\n",
    "\n",
    "# assuming 'dir6' is the main directory containing all the class-representing folders with respective image files\n",
    "dataset_dir = os.path.join(\"C:\",os.sep,\"Users\",\"username\",\"dir1\",\"dir2\",\"dir3\",\"dir4\",\"dir5\",\"dir6\") \n",
    "\n",
    "# path to the directory containing the extracted .csv file of the dataset\n",
    "dataset_csv_dir = os.path.join(\"C:\",os.sep,\"Users\",\"username\",\"dir1_\",\"dir2_\",\"dir3_\",\"dir4_\",\"dir5_\") "
   ]
  },
  {
   "cell_type": "code",
   "execution_count": null,
   "metadata": {},
   "outputs": [],
   "source": [
    "# helper function\n",
    "def populate_dataset(dataset: dict, directory: str):\n",
    "    \"\"\"Populates the passed dictionary object.\n",
    "\n",
    "    Args:\n",
    "        dataset (dict): the dictionary that will be populated\n",
    "        directory (str): the directory embracing all the data\n",
    "\n",
    "    Returns:\n",
    "        None\n",
    "    \"\"\"\n",
    "    # loops through all the files and folders in the directory\n",
    "    for folder_name in os.listdir(directory):\n",
    "        if os.path.isdir(os.path.join(directory, folder_name)):\n",
    "            for file_name in os.listdir(os.path.join(directory, folder_name)):\n",
    "                file_path = os.path.join(directory, folder_name, file_name)\n",
    "                image=iio.imread(file_path)\n",
    "                image_n_row = image.shape[0]\n",
    "                image_n_col = image.shape[1]\n",
    "                image_n_chn = image.shape[2]\n",
    "                # retrieves the label of the image\n",
    "                dataset[\"label\"].append(folder_name)\n",
    "                # retrieves pixel intensities (image features) pro channel\n",
    "                for chn in range(image_n_chn):\n",
    "                    for px_row in range(image_n_row):\n",
    "                        for px_col in range(image_n_col):\n",
    "                            dataset[f\"chn{chn}_px[{px_row},{px_col}]\"].append(image[px_row,px_col,chn])"
   ]
  },
  {
   "cell_type": "code",
   "execution_count": null,
   "metadata": {},
   "outputs": [],
   "source": [
    "data = defaultdict(list)\n",
    "\n",
    "populate_dataset(data, dataset_dir)\n",
    "\n",
    "df = pd.DataFrame(data)\n",
    "\n",
    "# exports the DataFrame object as the .csv file\n",
    "df.to_csv(os.path.join(dataset_csv_dir,\"dataset_raw.csv\"), index=False)"
   ]
  },
  {
   "cell_type": "code",
   "execution_count": null,
   "metadata": {},
   "outputs": [],
   "source": [
    "# reads data from the .csv file and loads it to the DataFrame object\n",
    "df = pd.read_csv(os.path.join(dataset_csv_dir,\"dataset_raw.csv\"))\n",
    "display(df.shape)"
   ]
  },
  {
   "cell_type": "markdown",
   "metadata": {},
   "source": [
    "***"
   ]
  }
 ],
 "metadata": {
  "kernelspec": {
   "display_name": ".venv",
   "language": "python",
   "name": "python3"
  },
  "language_info": {
   "codemirror_mode": {
    "name": "ipython",
    "version": 3
   },
   "file_extension": ".py",
   "mimetype": "text/x-python",
   "name": "python",
   "nbconvert_exporter": "python",
   "pygments_lexer": "ipython3",
   "version": "3.10.14"
  }
 },
 "nbformat": 4,
 "nbformat_minor": 2
}
