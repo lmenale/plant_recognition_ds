{
 "cells": [
  {
   "cell_type": "code",
   "execution_count": null,
   "metadata": {},
   "outputs": [],
   "source": [
    "#!/usr/bin/env python\n",
    "# -*- coding: utf-8 -*-"
   ]
  },
  {
   "cell_type": "markdown",
   "metadata": {},
   "source": [
    "## authorship information\n",
    "__author__ = \"Alex Tavkhelidze\"<br>\n",
    "__credits__ = [\"Bernd Brinkmann\", \"Luigi Menale\", \"Arif Haidari\", \"Romain Lesieur\"]<br>\n",
    "__email__ = <a href=\"mailto:&#106;&#101;&#111;&#115;&#064;&#109;&#097;&#105;&#108;&#046;&#099;&#111;&#109;\">jeos [at] mail [dot] com</a><br>\n",
    "__status__ = \"Development\"<br>\n",
    "__project__ = \"Plant Recognition\"<br>\n",
    "__scope__ = \"DataScientest's Bootcamp in Data Science\"\n",
    "\n",
    "#### materials used besides own contribution:\n",
    "the prototype code file 'step0_analysis.ipynb', provided by the teammate Luigi Menale<br>\n",
    "https://hachoir.readthedocs.io/en/latest/developer.html"
   ]
  },
  {
   "cell_type": "code",
   "execution_count": null,
   "metadata": {},
   "outputs": [],
   "source": [
    "\"\"\"Creates a dataset with the row-wise stored selected metadata per each image:\n",
    "   extracts selected metadata from images\n",
    "   populates a dictionary with extracted metadata\n",
    "   exports the populated dictionary as a .csv file\n",
    "\"\"\""
   ]
  },
  {
   "cell_type": "code",
   "execution_count": 1,
   "metadata": {},
   "outputs": [],
   "source": [
    "from sys import argv, stderr, exit\n",
    "import os\n",
    "from typing import Tuple\n",
    "from collections import defaultdict\n",
    "\n",
    "from hachoir.parser import createParser\n",
    "from hachoir.metadata import extractMetadata\n",
    "import imageio.v3 as iio\n",
    "import pandas as pd\n",
    "import numpy as np"
   ]
  },
  {
   "cell_type": "code",
   "execution_count": 2,
   "metadata": {},
   "outputs": [],
   "source": [
    "# defines the list with the descriptors of the image metadata to be fetched\n",
    "col_oi = [\"Image width\", \"Image height\", \"Bits/pixel\", \"Pixel format\", \"MIME type\"]"
   ]
  },
  {
   "cell_type": "code",
   "execution_count": 3,
   "metadata": {},
   "outputs": [],
   "source": [
    "# helper function\n",
    "def image_metadata(filepath: str) -> Tuple[int, int, int, str, str]:\n",
    "    \"\"\"Returns all the metadata related to the file passed as input.\n",
    "\n",
    "    Args:\n",
    "        filepath (str): the file path of the target image\n",
    "\n",
    "    Returns:\n",
    "        Tuple[int, int, int, str, str]: \n",
    "            width in pixels as int, \n",
    "            height in pixels as int, \n",
    "            bits/pixel as int, \n",
    "            pixel format as string (RGB, YCbCr etc.), \n",
    "            MIME type as string (png, jpeg etc.).\n",
    "    \"\"\"\n",
    "    \n",
    "    if len(argv) != 2:\n",
    "        print(\"usage: %s filename\" % argv[0], file=stderr)\n",
    "        exit(1)\n",
    "\n",
    "    col_names = []\n",
    "    values = []\n",
    "\n",
    "    parser = createParser(filepath)\n",
    "\n",
    "    if not parser:\n",
    "        print(\"Unable to parse file\", file=stderr)\n",
    "        exit(1)\n",
    "\n",
    "    with parser:\n",
    "        try:\n",
    "            metadata = extractMetadata(parser)\n",
    "        except Exception as err:\n",
    "            print(\"Metadata extraction error: %s\" % err)\n",
    "            metadata = None\n",
    "    if not metadata:\n",
    "        print(\"Unable to extract metadata\")\n",
    "        exit(1)\n",
    "\n",
    "    for line in metadata.exportPlaintext()[1:]:\n",
    "        line = line.removeprefix('- ')  \n",
    "        splist = line.split(\": \")\n",
    "        if splist[0] in col_oi:         \n",
    "            col_names.append(splist[0])\n",
    "            values.append(splist[1].removesuffix(' pixels').removeprefix('image/'))\n",
    "\n",
    "    width_px = int(values[col_names.index(\"Image width\")])\n",
    "    height_px = int(values[col_names.index(\"Image height\")])\n",
    "    bits_p_px = int(values[col_names.index(\"Bits/pixel\")])\n",
    "    px_format = values[col_names.index(\"Pixel format\")]\n",
    "    mime = values[col_names.index(\"MIME type\")]\n",
    "\n",
    "    return width_px, height_px, bits_p_px, px_format, mime"
   ]
  },
  {
   "cell_type": "code",
   "execution_count": 4,
   "metadata": {},
   "outputs": [],
   "source": [
    "# helper function\n",
    "def populate_dataset(dataset: dict, directory: str):\n",
    "    \"\"\"Populates the passed dictionary object.\n",
    "\n",
    "    Args:\n",
    "        dataset (dict): the dictionary that will be populated\n",
    "        directory (str): the directory embracing all the data\n",
    "\n",
    "    Returns:\n",
    "        None\n",
    "    \"\"\"\n",
    "    # loops through all the files and folders in the directory\n",
    "    for folder_name in os.listdir(directory):\n",
    "        if os.path.isdir(os.path.join(directory, folder_name)):\n",
    "            for file_name in os.listdir(os.path.join(directory, folder_name)):\n",
    "                file_path = os.path.join(directory, folder_name, file_name)\n",
    "                width_px, height_px, bits_p_px, px_format, mime = image_metadata(file_path)\n",
    "                image=iio.imread(file_path)\n",
    "                # retrieves the following stack of image metadata\n",
    "                dataset[\"folder_name\"].append(folder_name)\n",
    "                dataset[\"file_name\"].append(file_name)\n",
    "                dataset[\"width_px\"].append(width_px)\n",
    "                dataset[\"height_px\"].append(height_px)\n",
    "                dataset[\"bits_p_px\"].append(bits_p_px)\n",
    "                dataset[\"px_format\"].append(px_format)\n",
    "                dataset[\"mime\"].append(mime)\n",
    "                # fetches the number of channels (3rd dimension of the image array) \n",
    "                dataset[\"channels\"].append(image.shape[2])\n",
    "                # aggregates pixel-based major statistical features pro channel\n",
    "                for chn in range(3):\n",
    "                    dataset[f\"chn_{chn}_px_std\"].append(np.round(image[:,:,chn].std(),1))\n",
    "                    dataset[f\"chn_{chn}_px_min\"].append(np.percentile(image[:,:,chn],0))\n",
    "                    dataset[f\"chn_{chn}_px_q1\"].append(np.percentile(image[:,:,chn],25))\n",
    "                    dataset[f\"chn_{chn}_px_med\"].append(np.percentile(image[:,:,chn],50))\n",
    "                    dataset[f\"chn_{chn}_px_avg\"].append(np.round(image[:,:,chn].mean(),1))\n",
    "                    dataset[f\"chn_{chn}_px_q3\"].append(np.percentile(image[:,:,chn],75))\n",
    "                    dataset[f\"chn_{chn}_px_max\"].append(np.percentile(image[:,:,chn],100))\n",
    "                    dataset[f\"chn_{chn}_px_sum\"].append(image[:,:,chn].sum())"
   ]
  },
  {
   "cell_type": "code",
   "execution_count": 21,
   "metadata": {},
   "outputs": [],
   "source": [
    "# TODO: replace the arguments with your full path directory names - TODO: for Unix systems, erase the first argument\n",
    "\n",
    "# assuming 'dir6' is the main directory containing all the class-representing folders with respective image files\n",
    "dataset_dir = os.path.join(\"C:\",os.sep,\"Users\",\"username\",\"dir1\",\"dir2\",\"dir3\",\"dir4\",\"dir5\",\"dir6\") "
   ]
  },
  {
   "cell_type": "code",
   "execution_count": null,
   "metadata": {},
   "outputs": [],
   "source": [
    "data = defaultdict(list)\n",
    "\n",
    "populate_dataset(data, dataset_dir)\n",
    "\n",
    "df = pd.DataFrame(data)\n",
    "\n",
    "# exports the DataFrame object as the .csv file\n",
    "df.to_csv(os.path.join(dataset_dir,\"metadata_raw.csv\"), index=False)"
   ]
  },
  {
   "cell_type": "markdown",
   "metadata": {},
   "source": [
    "***"
   ]
  }
 ],
 "metadata": {
  "kernelspec": {
   "display_name": ".venv",
   "language": "python",
   "name": "python3"
  },
  "language_info": {
   "codemirror_mode": {
    "name": "ipython",
    "version": 3
   },
   "file_extension": ".py",
   "mimetype": "text/x-python",
   "name": "python",
   "nbconvert_exporter": "python",
   "pygments_lexer": "ipython3",
   "version": "3.10.14"
  }
 },
 "nbformat": 4,
 "nbformat_minor": 2
}
